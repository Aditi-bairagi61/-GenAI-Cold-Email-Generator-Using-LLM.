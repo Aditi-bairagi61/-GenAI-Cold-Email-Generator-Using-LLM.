{
 "cells": [
  {
   "cell_type": "code",
   "execution_count": 7,
   "id": "0f76f97c",
   "metadata": {},
   "outputs": [
    {
     "name": "stdout",
     "output_type": "stream",
     "text": [
      "The first person to land on the moon is Neil Armstrong. He stepped onto the lunar surface on July 20, 1969, as part of the Apollo 11 mission.\n"
     ]
    }
   ],
   "source": [
    "from langchain_groq import ChatGroq\n",
    "\n",
    "llm = ChatGroq(\n",
    "    \n",
    "    temperature=0,\n",
    "    groq_api_key='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',\n",
    "    model_name=\"llama-3.1-70b-versatile\"\n",
    "  \n",
    "    # other params...\n",
    ")\n",
    "response=llm.invoke(\"The first person to land on moon is ...\")\n",
    "print(response.content)"
   ]
  },
  {
   "cell_type": "code",
   "execution_count": null,
   "id": "6b8b8ada-8fc1-4de6-8fa6-9d253a3028b7",
   "metadata": {},
   "outputs": [],
   "source": []
  },
  {
   "cell_type": "code",
   "execution_count": null,
   "id": "f001a490-18dc-4b35-adae-a1802d57a65e",
   "metadata": {},
   "outputs": [],
   "source": []
  }
 ],
 "metadata": {
  "kernelspec": {
   "display_name": "Python 3 (ipykernel)",
   "language": "python",
   "name": "python3"
  },
  "language_info": {
   "codemirror_mode": {
    "name": "ipython",
    "version": 3
   },
   "file_extension": ".py",
   "mimetype": "text/x-python",
   "name": "python",
   "nbconvert_exporter": "python",
   "pygments_lexer": "ipython3",
   "version": "3.12.3"
  }
 },
 "nbformat": 4,
 "nbformat_minor": 5
}
